{
 "cells": [
  {
   "cell_type": "code",
   "execution_count": 1,
   "metadata": {},
   "outputs": [],
   "source": [
    "import os\n",
    "import shutil\n",
    "def copy_dir(log_path,target_path):\n",
    "\t# log_path = \"D:/Graduation/Face\"\n",
    "\tos.mkdir(target_path)\n",
    "\tfor root, dirs, files in os.walk(log_path):\n",
    "\t\tname_list=list()\n",
    "\t\t# log_path_dict = dict()\n",
    "\t\tfor file_name in files:\n",
    "\t\t\tperson_name=file_name.split('@')[0]\n",
    "\t\t\t# print(name_list)\n",
    "\t\t\tif person_name not in name_list:\n",
    "\t\t\t\tname_list.append(person_name)\n",
    "\t\t\t\tos.mkdir(target_path+'\\\\'+person_name)\n",
    "\t\t\tshutil.copy(log_path+'\\\\'+file_name,target_path+'\\\\'+person_name+'\\\\'+file_name)\n",
    "copy_dir(\"D:\\Graduation\\MeGlass_120x120\",\"D:\\Graduation\\MeGlass_120x120_new\")"
   ]
  },
  {
   "cell_type": "code",
   "execution_count": null,
   "metadata": {},
   "outputs": [],
   "source": [
    "import numpy as np\n",
    "image_path=\n",
    "image = cv2.imread(image_path)# .astype('uint8')\n",
    "image=cv2.imdecode(np.fromfile(image_path, dtype=np.uint8), cv2.IMREAD_UNCHANGED)"
   ]
  }
 ],
 "metadata": {
  "kernelspec": {
   "display_name": "Python 3",
   "language": "python",
   "name": "python3"
  },
  "language_info": {
   "codemirror_mode": {
    "name": "ipython",
    "version": 3
   },
   "file_extension": ".py",
   "mimetype": "text/x-python",
   "name": "python",
   "nbconvert_exporter": "python",
   "pygments_lexer": "ipython3",
   "version": "3.8.10"
  },
  "orig_nbformat": 4,
  "vscode": {
   "interpreter": {
    "hash": "ee2cfa7faee24a60f1dc2f0602fd83d792edb5885fda1570359e2d1aab7315ad"
   }
  }
 },
 "nbformat": 4,
 "nbformat_minor": 2
}
